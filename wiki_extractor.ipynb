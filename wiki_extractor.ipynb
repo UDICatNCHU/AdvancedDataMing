{
 "cells": [
  {
   "cell_type": "markdown",
   "metadata": {},
   "source": [
    "下載mobaXterm<BR>\n",
    "https://mobaxterm.mobatek.net/ <BR>\n",
    "下載後開啟<BR><BR>\n",
    "點選左上的session => SSH<BR>\n",
    "<img src=\"https://i.imgur.com/Y9lolhT.jpg\" align=\"left\"/><BR><BR>\n",
    "\n",
    "host: 140.120.13.242<BR>\n",
    "name: amd<BR>\n",
    "port: 15555<BR>\n",
    "pwd:  123<BR>"
   ]
  },
  {
   "cell_type": "markdown",
   "metadata": {
    "collapsed": true
   },
   "source": [
    "### 下載wiki檔案(檔案名稱為zhwiki-latest-pages-articles.xml.bz2)\n",
    "<BR>"
   ]
  },
  {
   "cell_type": "markdown",
   "metadata": {},
   "source": [
    "### 下載 WikiExtractor.py\n",
    "https://github.com/attardi/wikiextractor  <BR>\n",
    "<img src=\"https://i.imgur.com/7h5e64T.jpg\" width=\"800px\" /><BR>\n",
    "我們要藉由WikiExtractor.py來做切割檔案的動作<BR>\n",
    "開啟CMD，輸入 \"python WikiExtractor.py -cb 250K -o wiki_extractor zhwiki-latest-pages-articles.xml.bz2\"<BR>\n",
    "其中指令的wiki_extractor是切割檔案後存放的資料夾名稱，裡面的每個切割檔大小為250k"
   ]
  },
  {
   "cell_type": "markdown",
   "metadata": {},
   "source": [
    "### 下載opencc套件，將簡體中文轉為繁體中文\n",
    "https://github.com/yichen0831/opencc-python <BR>\n",
    "<img src=\"https://i.imgur.com/ebD17YI.jpg\" align=\"left\" width=\"800px\"/><BR><BR>"
   ]
  },
  {
   "cell_type": "markdown",
   "metadata": {},
   "source": [
    "<img src=\"https://i.imgur.com/A3eZeHk.jpg\" width=\"900px\"/>"
   ]
  },
  {
   "cell_type": "code",
   "execution_count": null,
   "metadata": {
    "collapsed": true
   },
   "outputs": [],
   "source": [
    "# extract.py\n",
    "# 這個檔案主要是把wiki的所有文章，一篇一篇擷取出來，做成一個dictionary的json檔案\n",
    "import pickle\n",
    "from opencc import OpenCC\n",
    "import os.path\n",
    "import bz2\n",
    "import json\n",
    "import re\n",
    "\n",
    "import os\n",
    "\n",
    "key_num=0 # 每篇文章的流水編號\n",
    "data_dict=dict()\n",
    "\n",
    "# 簡體繁體中文編碼\n",
    "opencc=OpenCC('s2t') \n",
    "\n",
    "# 找到所有檔案\n",
    "for root, dirs, files in os.walk(\"wiki_extractor\"): # wiki_extractor 為資料夾名稱\n",
    "    for file in files:\n",
    "        print(os.path.join(root, file))\n",
    "        with bz2.BZ2File(os.path.join(root, file), 'r', 'rb') as f:\n",
    "            # read the content\n",
    "            data=\"\"\n",
    "            for line in f:\n",
    "                content=line.decode(\"utf-8\").replace('\\n','')\n",
    "                if content is not \"\":\n",
    "                    if \"</doc>\" in content and data is not \"\":\n",
    "                        data=opencc.convert(data)\n",
    "                        data_dict[key_num]=data\n",
    "                        key_num+=1\n",
    "                        data=\"\"\n",
    "                    elif \"<doc\" not in content:\n",
    "                        data+=content+'\\n'\n",
    "                    \n",
    "jsonString = json.dumps(data_dict,ensure_ascii=False,indent=4)\n",
    "fname = \"wiki_data.json\"\n",
    "fout = open(fname,'w',encoding = 'UTF-8')\n",
    "fout.write(jsonString)\n",
    "fout.close()"
   ]
  },
  {
   "cell_type": "markdown",
   "metadata": {},
   "source": [
    "### 最後會output一個json檔案(wiki_data.json)\n",
    "<img src=\"https://i.imgur.com/8Xk3rIr.jpg\" width=\"900px\"/>"
   ]
  }
 ],
 "metadata": {
  "kernelspec": {
   "display_name": "Python 3",
   "language": "python",
   "name": "python3"
  },
  "language_info": {
   "codemirror_mode": {
    "name": "ipython",
    "version": 3
   },
   "file_extension": ".py",
   "mimetype": "text/x-python",
   "name": "python",
   "nbconvert_exporter": "python",
   "pygments_lexer": "ipython3",
   "version": "3.6.1"
  }
 },
 "nbformat": 4,
 "nbformat_minor": 2
}
