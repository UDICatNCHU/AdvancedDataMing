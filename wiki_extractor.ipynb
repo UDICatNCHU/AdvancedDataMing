{
 "cells": [
  {
   "cell_type": "markdown",
   "metadata": {},
   "source": [
    "下載mobaXterm<BR>\n",
    "https://mobaxterm.mobatek.net/ <BR>\n",
    "下載後開啟<BR>\n",
    "點選左上的session => SSH<BR>\n",
    "<img src=\"https://i.imgur.com/Y9lolhT.jpg\" align=\"left\"/>"
   ]
  },
  {
   "cell_type": "markdown",
   "metadata": {
    "collapsed": true
   },
   "source": [
    "輸入<BR>\n",
    "host: 140.120.13.242<BR>\n",
    "name: amd<BR>\n",
    "port: 15555<BR>\n",
    "pwd:  123<BR>\n",
    "下載wiki檔案(檔案名稱為zhwiki-latest-pages-articles.xml.bz2)"
   ]
  },
  {
   "cell_type": "markdown",
   "metadata": {},
   "source": [
    "https://github.com/attardi/wikiextractor 下載 WikiExtractor.py <BR>\n",
    "我們要藉由WikiExtractor.py來做切割檔案的動作<BR>\n",
    "開啟CMD，輸入 \"python WikiExtractor.py -cb 250K -o wiki_extractor <input type=\"text\" style=\"color:red;width:220px\" value=\"檔案名稱(剛剛下載的wiki壓縮檔案)\"/>\"<BR>\n",
    "其中指令的wiki_extractor是切割檔案後存放的資料夾名稱，裡面的每個切割檔大小為250k"
   ]
  },
  {
   "cell_type": "markdown",
   "metadata": {},
   "source": [
    "下載opencc套件，將簡體中文轉為繁體中文<BR>\n",
    "https://github.com/yichen0831/opencc-python "
   ]
  },
  {
   "cell_type": "code",
   "execution_count": null,
   "metadata": {
    "collapsed": true
   },
   "outputs": [],
   "source": [
    "import pickle\n",
    "from opencc import OpenCC\n",
    "import os.path\n",
    "import bz2\n",
    "import json\n",
    "import re\n",
    "\n",
    "import os\n",
    "\n",
    "key_num=0 # 每篇文章的流水編號\n",
    "data_dict=dict()\n",
    "\n",
    "# 簡體繁體中文編碼\n",
    "opencc=OpenCC('s2t') \n",
    "\n",
    "# 找到所有檔案\n",
    "for root, dirs, files in os.walk(\"wiki_extractor\"): # wiki_extractor 為資料夾名稱\n",
    "    for file in files:\n",
    "        print(os.path.join(root, file))\n",
    "        with bz2.BZ2File(os.path.join(root, file), 'r', 'rb') as f:\n",
    "            # read the content\n",
    "            data=\"\"\n",
    "            for line in f:\n",
    "                content=line.decode(\"utf-8\").replace('\\n','')\n",
    "                if content is not \"\" and \"</doc>\" not in content:\n",
    "                    if \"<doc\" not in content:\n",
    "                        data+=content+'\\n'\n",
    "                    else:\n",
    "                        if data is not \"\":\n",
    "                            data=opencc.convert(data)\n",
    "                            data_dict[key_num]=data\n",
    "                            key_num+=1\n",
    "                            data=\"\"\n",
    "\n",
    "\n",
    "jsonString = json.dumps(data_dict,ensure_ascii=False,indent=4)\n",
    "fname = \"wiki_data.json\"\n",
    "fout = open(fname,'w',encoding = 'UTF-8')\n",
    "fout.write(jsonString)\n",
    "fout.close()\n",
    "\n"
   ]
  }
 ],
 "metadata": {
  "kernelspec": {
   "display_name": "Python 3",
   "language": "python",
   "name": "python3"
  },
  "language_info": {
   "codemirror_mode": {
    "name": "ipython",
    "version": 3
   },
   "file_extension": ".py",
   "mimetype": "text/x-python",
   "name": "python",
   "nbconvert_exporter": "python",
   "pygments_lexer": "ipython3",
   "version": "3.6.1"
  }
 },
 "nbformat": 4,
 "nbformat_minor": 2
}
