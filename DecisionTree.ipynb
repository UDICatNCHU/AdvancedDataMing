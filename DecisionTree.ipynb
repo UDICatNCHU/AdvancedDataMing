{
 "cells": [
  {
   "cell_type": "code",
   "execution_count": 1,
   "metadata": {
    "collapsed": true
   },
   "outputs": [],
   "source": [
    "my_data=[['slashdot','USA','yes',18,'None'],\n",
    "        ['google','France','yes',23,'Premium'],\n",
    "        ['digg','USA','yes',24,'Basic'],\n",
    "        ['kiwitobes','France','yes',23,'Basic'],\n",
    "        ['google','UK','no',21,'Premium'],\n",
    "        ['(direct)','New Zealand','no',12,'None'],\n",
    "        ['(direct)','UK','no',21,'Basic'],\n",
    "        ['google','USA','no',24,'Premium'],\n",
    "        ['slashdot','France','yes',19,'None'],\n",
    "        ['digg','USA','no',18,'None'],\n",
    "        ['google','UK','no',18,'None'],\n",
    "        ['kiwitobes','UK','no',19,'None'],\n",
    "        ['digg','New Zealand','yes',12,'Basic'],\n",
    "        ['slashdot','UK','no',21,'None'],\n",
    "        ['google','UK','yes',18,'Basic'],\n",
    "        ['kiwitobes','France','yes',19,'Basic']]"
   ]
  },
  {
   "cell_type": "code",
   "execution_count": 5,
   "metadata": {
    "collapsed": true
   },
   "outputs": [],
   "source": [
    "class decisionnode:\n",
    "  def __init__(self,col=-1,value=None,results=None,tb=None,fb=None):\n",
    "    self.col=col\n",
    "    self.value=value\n",
    "    self.results=results\n",
    "    self.tb=tb\n",
    "    self.fb=fb\n",
    "\n",
    "# Divides a set on a specific column. Can handle numeric\n",
    "# or nominal values\n",
    "def divideset(rows,column,value):\n",
    "   # Make a function that tells us if a row is in \n",
    "   # the first group (true) or the second group (false)\n",
    "   split_function=None\n",
    "   if isinstance(value,int) or isinstance(value,float):\n",
    "      split_function=lambda row:row[column]>=value\n",
    "   else:\n",
    "      split_function=lambda row:row[column]==value\n",
    "   \n",
    "   # Divide the rows into two sets and return them\n",
    "   set1=[row for row in rows if split_function(row)]\n",
    "   set2=[row for row in rows if not split_function(row)]\n",
    "   return (set1,set2)"
   ]
  },
  {
   "cell_type": "code",
   "execution_count": 6,
   "metadata": {
    "collapsed": false
   },
   "outputs": [
    {
     "data": {
      "text/plain": [
       "([['slashdot', 'USA', 'yes', 18, 'None'],\n",
       "  ['google', 'France', 'yes', 23, 'Premium'],\n",
       "  ['digg', 'USA', 'yes', 24, 'Basic'],\n",
       "  ['kiwitobes', 'France', 'yes', 23, 'Basic'],\n",
       "  ['slashdot', 'France', 'yes', 19, 'None'],\n",
       "  ['digg', 'New Zealand', 'yes', 12, 'Basic'],\n",
       "  ['google', 'UK', 'yes', 18, 'Basic'],\n",
       "  ['kiwitobes', 'France', 'yes', 19, 'Basic']],\n",
       " [['google', 'UK', 'no', 21, 'Premium'],\n",
       "  ['(direct)', 'New Zealand', 'no', 12, 'None'],\n",
       "  ['(direct)', 'UK', 'no', 21, 'Basic'],\n",
       "  ['google', 'USA', 'no', 24, 'Premium'],\n",
       "  ['digg', 'USA', 'no', 18, 'None'],\n",
       "  ['google', 'UK', 'no', 18, 'None'],\n",
       "  ['kiwitobes', 'UK', 'no', 19, 'None'],\n",
       "  ['slashdot', 'UK', 'no', 21, 'None']])"
      ]
     },
     "execution_count": 6,
     "metadata": {},
     "output_type": "execute_result"
    }
   ],
   "source": [
    "divideset(my_data,2,'yes')"
   ]
  },
  {
   "cell_type": "code",
   "execution_count": 7,
   "metadata": {
    "collapsed": true
   },
   "outputs": [],
   "source": [
    "# Create counts of possible results (the last column of \n",
    "# each row is the result)\n",
    "def uniquecounts(rows):\n",
    "   results={}\n",
    "   for row in rows:\n",
    "      # The result is the last column\n",
    "      r=row[len(row)-1]\n",
    "      if r not in results: results[r]=0\n",
    "      results[r]+=1\n",
    "   return results"
   ]
  },
  {
   "cell_type": "code",
   "execution_count": 8,
   "metadata": {
    "collapsed": true
   },
   "outputs": [],
   "source": [
    "# Probability that a randomly placed item will\n",
    "# be in the wrong category\n",
    "def giniimpurity(rows):\n",
    "  total=len(rows)\n",
    "  counts=uniquecounts(rows)\n",
    "  imp=0\n",
    "  for k1 in counts:\n",
    "    p1=float(counts[k1])/total\n",
    "    for k2 in counts:\n",
    "      if k1==k2: continue\n",
    "      p2=float(counts[k2])/total\n",
    "      imp+=p1*p2\n",
    "  return imp"
   ]
  },
  {
   "cell_type": "code",
   "execution_count": 9,
   "metadata": {
    "collapsed": true
   },
   "outputs": [],
   "source": [
    "# Entropy is the sum of p(x)log(p(x)) across all \n",
    "# the different possible results\n",
    "def entropy(rows):\n",
    "   from math import log\n",
    "   log2=lambda x:log(x)/log(2)  \n",
    "   results=uniquecounts(rows)\n",
    "   # Now calculate the entropy\n",
    "   ent=0.0\n",
    "   for r in results.keys():\n",
    "      p=float(results[r])/len(rows)\n",
    "      ent=ent-p*log2(p)\n",
    "   return ent"
   ]
  },
  {
   "cell_type": "code",
   "execution_count": 22,
   "metadata": {
    "collapsed": true
   },
   "outputs": [],
   "source": [
    "def variance(rows):\n",
    "  if len(rows)==0: return 0\n",
    "  data=[float(row[len(row)-1]) for row in rows]\n",
    "  mean=sum(data)/len(data)\n",
    "  variance=sum([(d-mean)**2 for d in data])/len(data)\n",
    "  return variance"
   ]
  },
  {
   "cell_type": "code",
   "execution_count": 10,
   "metadata": {
    "collapsed": false
   },
   "outputs": [
    {
     "data": {
      "text/plain": [
       "0.6328125"
      ]
     },
     "execution_count": 10,
     "metadata": {},
     "output_type": "execute_result"
    }
   ],
   "source": [
    "giniimpurity(my_data)"
   ]
  },
  {
   "cell_type": "code",
   "execution_count": 11,
   "metadata": {
    "collapsed": false
   },
   "outputs": [
    {
     "data": {
      "text/plain": [
       "1.5052408149441479"
      ]
     },
     "execution_count": 11,
     "metadata": {},
     "output_type": "execute_result"
    }
   ],
   "source": [
    "entropy(my_data)"
   ]
  },
  {
   "cell_type": "code",
   "execution_count": 12,
   "metadata": {
    "collapsed": false
   },
   "outputs": [
    {
     "data": {
      "text/plain": [
       "{'Basic': 6, 'None': 7, 'Premium': 3}"
      ]
     },
     "execution_count": 12,
     "metadata": {},
     "output_type": "execute_result"
    }
   ],
   "source": [
    "uniquecounts(my_data)"
   ]
  },
  {
   "cell_type": "code",
   "execution_count": 13,
   "metadata": {
    "collapsed": true
   },
   "outputs": [],
   "source": [
    "set1,set2=divideset(my_data,2,'yes')"
   ]
  },
  {
   "cell_type": "code",
   "execution_count": 14,
   "metadata": {
    "collapsed": false
   },
   "outputs": [
    {
     "data": {
      "text/plain": [
       "1.2987949406953985"
      ]
     },
     "execution_count": 14,
     "metadata": {},
     "output_type": "execute_result"
    }
   ],
   "source": [
    "entropy(set1)"
   ]
  },
  {
   "cell_type": "code",
   "execution_count": 15,
   "metadata": {
    "collapsed": false
   },
   "outputs": [
    {
     "data": {
      "text/plain": [
       "1.2987949406953985"
      ]
     },
     "execution_count": 15,
     "metadata": {},
     "output_type": "execute_result"
    }
   ],
   "source": [
    "entropy(set2)"
   ]
  },
  {
   "cell_type": "code",
   "execution_count": 16,
   "metadata": {
    "collapsed": true
   },
   "outputs": [],
   "source": [
    "def buildtree(rows,scoref=entropy):\n",
    "  if len(rows)==0: return decisionnode()\n",
    "  current_score=scoref(rows)\n",
    "\n",
    "  # Set up some variables to track the best criteria\n",
    "  best_gain=0.0\n",
    "  best_criteria=None\n",
    "  best_sets=None\n",
    "  \n",
    "  column_count=len(rows[0])-1\n",
    "  for col in range(0,column_count):\n",
    "    # Generate the list of different values in\n",
    "    # this column\n",
    "    column_values={}\n",
    "    for row in rows:\n",
    "       column_values[row[col]]=1\n",
    "    # Now try dividing the rows up for each value\n",
    "    # in this column\n",
    "    for value in column_values.keys():\n",
    "      (set1,set2)=divideset(rows,col,value)\n",
    "      \n",
    "      # Information gain\n",
    "      p=float(len(set1))/len(rows)\n",
    "      gain=current_score-p*scoref(set1)-(1-p)*scoref(set2)\n",
    "      if gain>best_gain and len(set1)>0 and len(set2)>0:\n",
    "        best_gain=gain\n",
    "        best_criteria=(col,value)\n",
    "        best_sets=(set1,set2)\n",
    "  # Create the sub branches   \n",
    "  if best_gain>0:\n",
    "    trueBranch=buildtree(best_sets[0])\n",
    "    falseBranch=buildtree(best_sets[1])\n",
    "    return decisionnode(col=best_criteria[0],value=best_criteria[1],\n",
    "                        tb=trueBranch,fb=falseBranch)\n",
    "  else:\n",
    "    return decisionnode(results=uniquecounts(rows))"
   ]
  },
  {
   "cell_type": "code",
   "execution_count": 17,
   "metadata": {
    "collapsed": true
   },
   "outputs": [],
   "source": [
    "dtree = buildtree(my_data)"
   ]
  },
  {
   "cell_type": "code",
   "execution_count": 18,
   "metadata": {
    "collapsed": true
   },
   "outputs": [],
   "source": [
    "def printtree(tree,indent=''):\n",
    "   # Is this a leaf node?\n",
    "   if tree.results!=None:\n",
    "      print str(tree.results)\n",
    "   else:\n",
    "      # Print the criteria\n",
    "      print str(tree.col)+':'+str(tree.value)+'? '\n",
    "\n",
    "      # Print the branches\n",
    "      print indent+'T->',\n",
    "      printtree(tree.tb,indent+'  ')\n",
    "      print indent+'F->',\n",
    "      printtree(tree.fb,indent+'  ')\n",
    "\n",
    "\n",
    "def getwidth(tree):\n",
    "  if tree.tb==None and tree.fb==None: return 1\n",
    "  return getwidth(tree.tb)+getwidth(tree.fb)\n",
    "\n",
    "def getdepth(tree):\n",
    "  if tree.tb==None and tree.fb==None: return 0\n",
    "  return max(getdepth(tree.tb),getdepth(tree.fb))+1"
   ]
  },
  {
   "cell_type": "code",
   "execution_count": 19,
   "metadata": {
    "collapsed": false
   },
   "outputs": [
    {
     "name": "stdout",
     "output_type": "stream",
     "text": [
      "0:google? \n",
      "T-> 3:21? \n",
      "  T-> {'Premium': 3}\n",
      "  F-> 2:yes? \n",
      "    T-> {'Basic': 1}\n",
      "    F-> {'None': 1}\n",
      "F-> 0:slashdot? \n",
      "  T-> {'None': 3}\n",
      "  F-> 2:yes? \n",
      "    T-> {'Basic': 4}\n",
      "    F-> 3:21? \n",
      "      T-> {'Basic': 1}\n",
      "      F-> {'None': 3}\n"
     ]
    }
   ],
   "source": [
    "printtree(dtree)"
   ]
  },
  {
   "cell_type": "code",
   "execution_count": null,
   "metadata": {
    "collapsed": true
   },
   "outputs": [],
   "source": [
    "from PIL import Image,ImageDraw\n",
    "\n",
    "def drawtree(tree,jpeg='tree.jpg'):\n",
    "  w=getwidth(tree)*100\n",
    "  h=getdepth(tree)*100+120\n",
    "\n",
    "  img=Image.new('RGB',(w,h),(255,255,255))\n",
    "  draw=ImageDraw.Draw(img)\n",
    "\n",
    "  drawnode(draw,tree,w/2,20)\n",
    "  img.save(jpeg,'JPEG')\n",
    "  \n",
    "def drawnode(draw,tree,x,y):\n",
    "  if tree.results==None:\n",
    "    # Get the width of each branch\n",
    "    w1=getwidth(tree.fb)*100\n",
    "    w2=getwidth(tree.tb)*100\n",
    "\n",
    "    # Determine the total space required by this node\n",
    "    left=x-(w1+w2)/2\n",
    "    right=x+(w1+w2)/2\n",
    "\n",
    "    # Draw the condition string\n",
    "    draw.text((x-20,y-10),str(tree.col)+':'+str(tree.value),(0,0,0))\n",
    "\n",
    "    # Draw links to the branches\n",
    "    draw.line((x,y,left+w1/2,y+100),fill=(255,0,0))\n",
    "    draw.line((x,y,right-w2/2,y+100),fill=(255,0,0))\n",
    "    \n",
    "    # Draw the branch nodes\n",
    "    drawnode(draw,tree.fb,left+w1/2,y+100)\n",
    "    drawnode(draw,tree.tb,right-w2/2,y+100)\n",
    "  else:\n",
    "    txt=' \\n'.join(['%s:%d'%v for v in tree.results.items()])\n",
    "    draw.text((x-20,y),txt,(0,0,0))"
   ]
  },
  {
   "cell_type": "code",
   "execution_count": 20,
   "metadata": {
    "collapsed": true
   },
   "outputs": [],
   "source": [
    "drawtree(dtree,jpeg='treeview.jpg')"
   ]
  },
  {
   "cell_type": "code",
   "execution_count": 21,
   "metadata": {
    "collapsed": false
   },
   "outputs": [
    {
     "data": {
      "image/jpeg": "[encoded data removed]",
      "text/plain": [
       "<IPython.core.display.Image object>"
      ]
     },
     "execution_count": 21,
     "metadata": {},
     "output_type": "execute_result"
    }
   ],
   "source": [
    "from IPython.display import Image\n",
    "Image(filename='treeview.jpg')"
   ]
  },
  {
   "cell_type": "code",
   "execution_count": 3,
   "metadata": {
    "collapsed": true
   },
   "outputs": [],
   "source": [
    "def classify(observation,tree):\n",
    "  if tree.results!=None:\n",
    "    return tree.results\n",
    "  else:\n",
    "    v=observation[tree.col]\n",
    "    branch=None\n",
    "    if isinstance(v,int) or isinstance(v,float):\n",
    "      if v>=tree.value: branch=tree.tb\n",
    "      else: branch=tree.fb\n",
    "    else:\n",
    "      if v==tree.value: branch=tree.tb\n",
    "      else: branch=tree.fb\n",
    "    return classify(observation,branch)"
   ]
  },
  {
   "cell_type": "code",
   "execution_count": 24,
   "metadata": {
    "collapsed": false
   },
   "outputs": [
    {
     "data": {
      "text/plain": [
       "{'Basic': 4}"
      ]
     },
     "execution_count": 24,
     "metadata": {},
     "output_type": "execute_result"
    }
   ],
   "source": [
    "classify(['(direct)','USA','yes',5],dtree)"
   ]
  },
  {
   "cell_type": "code",
   "execution_count": null,
   "metadata": {
    "collapsed": true
   },
   "outputs": [],
   "source": []
  }
 ],
 "metadata": {
  "kernelspec": {
   "display_name": "Python [Root]",
   "language": "python",
   "name": "Python [Root]"
  },
  "language_info": {
   "codemirror_mode": {
    "name": "ipython",
    "version": 2
   },
   "file_extension": ".py",
   "mimetype": "text/x-python",
   "name": "python",
   "nbconvert_exporter": "python",
   "pygments_lexer": "ipython2",
   "version": "2.7.12"
  }
 },
 "nbformat": 4,
 "nbformat_minor": 0
}
